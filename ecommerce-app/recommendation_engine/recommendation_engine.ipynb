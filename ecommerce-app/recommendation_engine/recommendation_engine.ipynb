{
 "cells": [
  {
   "cell_type": "markdown",
   "id": "383bdfd3-aee2-4a16-b95a-270db3f8e54b",
   "metadata": {},
   "source": [
    "SET UP"
   ]
  },
  {
   "cell_type": "code",
   "execution_count": 1,
   "id": "7ea50579-0032-4523-94af-b7c853ca8511",
   "metadata": {},
   "outputs": [],
   "source": [
    "# %pip install mysql-connector-python\n",
    "# %pip install pyspark # may need to install java as well and set java home and spark home\n",
    "# %pip install pandas\n",
    "# %pip install numpy\n",
    "\n",
    "import pandas as pd\n",
    "import numpy as np\n",
    "from collections import defaultdict\n",
    "\n",
    "import boto3\n",
    "from botocore.exceptions import ClientError\n",
    "import json\n",
    "\n",
    "import mysql.connector\n",
    "from mysql.connector import Error\n",
    "\n",
    "from pyspark.sql import SparkSession\n",
    "from pyspark.ml.evaluation import RegressionEvaluator\n",
    "from pyspark.ml.recommendation import ALS\n"
   ]
  },
  {
   "cell_type": "code",
   "execution_count": 2,
   "id": "63fe193e",
   "metadata": {},
   "outputs": [],
   "source": [
    "\n",
    "def get_secret():\n",
    "\n",
    "    secret_name = \"rds!db-f8407841-d834-4490-a67a-a994b71bc2e1\"\n",
    "    region_name = \"ca-central-1\"\n",
    "\n",
    "    # Create a Secrets Manager client\n",
    "    session = boto3.session.Session()\n",
    "    client = session.client(\n",
    "        service_name='secretsmanager',\n",
    "        region_name=region_name\n",
    "    )\n",
    "\n",
    "    try:\n",
    "        get_secret_value_response = client.get_secret_value(\n",
    "            SecretId=secret_name\n",
    "        )\n",
    "        return get_secret_value_response\n",
    "    except ClientError as e:\n",
    "        raise e\n",
    "\n",
    "secret = json.loads(get_secret()['SecretString'])\n",
    "\n",
    "host = \"ecommerce.c7eeeeuega91.ca-central-1.rds.amazonaws.com\"\n",
    "user = secret['username']\n",
    "password = secret['password']\n",
    "port = 3306\n",
    "database = \"ecommerce\"\n"
   ]
  },
  {
   "cell_type": "code",
   "execution_count": null,
   "id": "e0b0ce27-d200-4eee-a7f5-0e773db37584",
   "metadata": {},
   "outputs": [],
   "source": [
    "#functions to establish and close connection to RDS \n",
    "\n",
    "def connect_to_rds():\n",
    "    try: #can add a while loop to re-run for failure\n",
    "        connection = mysql.connector.connect(\n",
    "            host=host,\n",
    "            user=user,\n",
    "            password=password,\n",
    "            port=port,\n",
    "            database=database\n",
    "        )\n",
    "        if connection.is_connected():\n",
    "            print(\"Successfully connected to RDS!\")\n",
    "            cursor = connection.cursor()\n",
    "            cursor.execute(\"SELECT DATABASE();\")\n",
    "            record = cursor.fetchone()\n",
    "            print(f\"You're connected to: {record}\")\n",
    "            return connection, cursor\n",
    "        else:\n",
    "            return None, None\n",
    "    except Error as e:\n",
    "        print(\"Error while connecting to RDS:\", e)\n",
    "        return None, None\n",
    "\n",
    "def close_connection(connection, cursor):\n",
    "    if connection!=None and connection.is_connected():\n",
    "        cursor.close()\n",
    "        connection.close()\n",
    "        print(\"Connection closed.\")\n"
   ]
  },
  {
   "cell_type": "code",
   "execution_count": 4,
   "id": "8d374c9a-8a4c-45ab-927d-9ad61d686b4f",
   "metadata": {},
   "outputs": [
    {
     "name": "stdout",
     "output_type": "stream",
     "text": [
      "Successfully connected to RDS!\n",
      "You're connected to: ('ecommerce',)\n",
      "Attempting query execution\n"
     ]
    }
   ],
   "source": [
    "# Executing queries to get our the reviews table, the purchases table, and all OUR users.\n",
    "\n",
    "connection, cursor = connect_to_rds()\n",
    "\n",
    "if connection.is_connected() and cursor != None:\n",
    "    print(\"Attempting query execution\")\n",
    "    try:       \n",
    "        get_reviews_query = \"SELECT userid, product_asin, rating FROM Reviews;\" \n",
    "        cursor.execute(get_reviews_query)\n",
    "        rows = cursor.fetchall()\n",
    "        columns = [desc[0] for desc in cursor.description] # Fetch column names from the cursor\n",
    "        \n",
    "        get_our_users_query = \"SELECT userid FROM Users WHERE email IS NOT NULL;\"\n",
    "        cursor.execute(get_our_users_query)\n",
    "        our_users = cursor.fetchall()\n",
    "\n",
    "        get_purchases_query = \"SELECT DISTINCT userid, product_asin FROM Purchases;\"\n",
    "        cursor.execute(get_purchases_query)\n",
    "        purchases = cursor.fetchall()\n",
    "\n",
    "    except Error as e:\n",
    "        print(\"Error while executing MySQL queries:\", e)\n",
    "\n",
    "# close_connection(connection, cursor)\n",
    "# cursor = None\n",
    "# connection = None # to avoid dangling pointer"
   ]
  },
  {
   "cell_type": "code",
   "execution_count": 5,
   "id": "11c51b16-be5b-4167-87dd-0f40e43f9d8a",
   "metadata": {},
   "outputs": [
    {
     "name": "stdout",
     "output_type": "stream",
     "text": [
      "['userid', 'product_asin', 'rating']\n"
     ]
    },
    {
     "data": {
      "text/html": [
       "<div>\n",
       "<style scoped>\n",
       "    .dataframe tbody tr th:only-of-type {\n",
       "        vertical-align: middle;\n",
       "    }\n",
       "\n",
       "    .dataframe tbody tr th {\n",
       "        vertical-align: top;\n",
       "    }\n",
       "\n",
       "    .dataframe thead th {\n",
       "        text-align: right;\n",
       "    }\n",
       "</style>\n",
       "<table border=\"1\" class=\"dataframe\">\n",
       "  <thead>\n",
       "    <tr style=\"text-align: right;\">\n",
       "      <th></th>\n",
       "      <th>userid</th>\n",
       "      <th>product_asin</th>\n",
       "      <th>rating</th>\n",
       "    </tr>\n",
       "  </thead>\n",
       "  <tbody>\n",
       "    <tr>\n",
       "      <th>0</th>\n",
       "      <td>AFTYGYAECGAWJRDXIIXSO3PZ45KA</td>\n",
       "      <td>B08GCR1G1R</td>\n",
       "      <td>5.0</td>\n",
       "    </tr>\n",
       "    <tr>\n",
       "      <th>1</th>\n",
       "      <td>AE57MRF2R2ALCC6H5WQLFKT7KSSA</td>\n",
       "      <td>B01MRV9Z1Y</td>\n",
       "      <td>5.0</td>\n",
       "    </tr>\n",
       "    <tr>\n",
       "      <th>2</th>\n",
       "      <td>AFXF3EGQTQDXMRLDWFU7UBFQZB7Q</td>\n",
       "      <td>B0896Q9WZY</td>\n",
       "      <td>4.0</td>\n",
       "    </tr>\n",
       "    <tr>\n",
       "      <th>3</th>\n",
       "      <td>AHPFHP43AXWRYZZ4HPNCW7I7J3ZQ</td>\n",
       "      <td>B0896Q9WZY</td>\n",
       "      <td>5.0</td>\n",
       "    </tr>\n",
       "    <tr>\n",
       "      <th>4</th>\n",
       "      <td>AGUFDVO4TYIFQHQUMDXFHSHH43BA</td>\n",
       "      <td>B0C5BMZ1K9</td>\n",
       "      <td>2.0</td>\n",
       "    </tr>\n",
       "    <tr>\n",
       "      <th>...</th>\n",
       "      <td>...</td>\n",
       "      <td>...</td>\n",
       "      <td>...</td>\n",
       "    </tr>\n",
       "    <tr>\n",
       "      <th>81390</th>\n",
       "      <td>1cbd15f8-4021-70b7-c332-5b8938bd4417</td>\n",
       "      <td>B0000WS5EQ</td>\n",
       "      <td>4.0</td>\n",
       "    </tr>\n",
       "    <tr>\n",
       "      <th>81391</th>\n",
       "      <td>1cbd15f8-4021-70b7-c332-5b8938bd4417</td>\n",
       "      <td>B0000WS5EQ</td>\n",
       "      <td>4.0</td>\n",
       "    </tr>\n",
       "    <tr>\n",
       "      <th>81392</th>\n",
       "      <td>1cbd15f8-4021-70b7-c332-5b8938bd4417</td>\n",
       "      <td>B0006HHNOI</td>\n",
       "      <td>4.0</td>\n",
       "    </tr>\n",
       "    <tr>\n",
       "      <th>81393</th>\n",
       "      <td>1cbd15f8-4021-70b7-c332-5b8938bd4417</td>\n",
       "      <td>B00067AVGK</td>\n",
       "      <td>4.0</td>\n",
       "    </tr>\n",
       "    <tr>\n",
       "      <th>81394</th>\n",
       "      <td>3cad2568-b0c1-7000-07b0-b98f8f2c5010</td>\n",
       "      <td>B000IGOTW6</td>\n",
       "      <td>4.0</td>\n",
       "    </tr>\n",
       "  </tbody>\n",
       "</table>\n",
       "<p>81395 rows × 3 columns</p>\n",
       "</div>"
      ],
      "text/plain": [
       "                                     userid product_asin  rating\n",
       "0              AFTYGYAECGAWJRDXIIXSO3PZ45KA   B08GCR1G1R     5.0\n",
       "1              AE57MRF2R2ALCC6H5WQLFKT7KSSA   B01MRV9Z1Y     5.0\n",
       "2              AFXF3EGQTQDXMRLDWFU7UBFQZB7Q   B0896Q9WZY     4.0\n",
       "3              AHPFHP43AXWRYZZ4HPNCW7I7J3ZQ   B0896Q9WZY     5.0\n",
       "4              AGUFDVO4TYIFQHQUMDXFHSHH43BA   B0C5BMZ1K9     2.0\n",
       "...                                     ...          ...     ...\n",
       "81390  1cbd15f8-4021-70b7-c332-5b8938bd4417   B0000WS5EQ     4.0\n",
       "81391  1cbd15f8-4021-70b7-c332-5b8938bd4417   B0000WS5EQ     4.0\n",
       "81392  1cbd15f8-4021-70b7-c332-5b8938bd4417   B0006HHNOI     4.0\n",
       "81393  1cbd15f8-4021-70b7-c332-5b8938bd4417   B00067AVGK     4.0\n",
       "81394  3cad2568-b0c1-7000-07b0-b98f8f2c5010   B000IGOTW6     4.0\n",
       "\n",
       "[81395 rows x 3 columns]"
      ]
     },
     "execution_count": 5,
     "metadata": {},
     "output_type": "execute_result"
    }
   ],
   "source": [
    "print(columns)\n",
    "ratings_df = pd.DataFrame(rows, columns=columns)\n",
    "ratings_df"
   ]
  },
  {
   "cell_type": "code",
   "execution_count": 6,
   "id": "6756d69a-df39-4715-a69a-eb61abdbd299",
   "metadata": {},
   "outputs": [
    {
     "name": "stdout",
     "output_type": "stream",
     "text": [
      "                                 userid\n",
      "0  1cbd15f8-4021-70b7-c332-5b8938bd4417\n",
      "1  3cad2568-b0c1-7000-07b0-b98f8f2c5010\n",
      "2  8c5d7538-90d1-70a0-efb1-64a13ebc70e0\n",
      "{'1cbd15f8-4021-70b7-c332-5b8938bd4417': [], '3cad2568-b0c1-7000-07b0-b98f8f2c5010': [], '8c5d7538-90d1-70a0-efb1-64a13ebc70e0': []}\n"
     ]
    }
   ],
   "source": [
    "our_users_df = pd.DataFrame(our_users, columns=['userid'])\n",
    "print(our_users_df)\n",
    "\n",
    "recommendations_dict = {user[0]: list() for user in our_users}\n",
    "print(recommendations_dict)"
   ]
  },
  {
   "cell_type": "code",
   "execution_count": 7,
   "id": "3baaf0a0",
   "metadata": {},
   "outputs": [
    {
     "name": "stdout",
     "output_type": "stream",
     "text": [
      "                                 userid product_asin\n",
      "0  3cad2568-b0c1-7000-07b0-b98f8f2c5010   6025006393\n",
      "defaultdict(<class 'list'>, {'3cad2568-b0c1-7000-07b0-b98f8f2c5010': ['6025006393']})\n",
      "1\n"
     ]
    }
   ],
   "source": [
    "purchases_df = pd.DataFrame(purchases, columns=['userid', 'product_asin'])\n",
    "print(purchases_df)\n",
    "\n",
    "purchases_dict = defaultdict(list)\n",
    "for _, row in purchases_df.iterrows():\n",
    "    purchases_dict[row['userid']].append(row['product_asin'])\n",
    "\n",
    "print(purchases_dict)\n",
    "\n",
    "max_purchases_by_a_user = 0\n",
    "for key in purchases_dict.keys():\n",
    "    n_purchases = len(purchases_dict[key])\n",
    "    if n_purchases > max_purchases_by_a_user:\n",
    "        max_purchases_by_a_user = n_purchases\n",
    "print(max_purchases_by_a_user)\n",
    "\n"
   ]
  },
  {
   "cell_type": "markdown",
   "id": "52bd2f60-802a-481f-a333-8a4ad67e3df9",
   "metadata": {},
   "source": [
    "RUNNING THE COLLABORATIVE FILTERING ML MODEL FROM SPARK - BASED ON ALS"
   ]
  },
  {
   "cell_type": "code",
   "execution_count": 8,
   "id": "7c4cf974",
   "metadata": {},
   "outputs": [
    {
     "name": "stderr",
     "output_type": "stream",
     "text": [
      "Setting default log level to \"WARN\".\n",
      "To adjust logging level use sc.setLogLevel(newLevel). For SparkR, use setLogLevel(newLevel).\n",
      "24/12/03 07:19:35 WARN NativeCodeLoader: Unable to load native-hadoop library for your platform... using builtin-java classes where applicable\n"
     ]
    }
   ],
   "source": [
    "spark = SparkSession.builder \\\n",
    "    .appName(\"ALSRecommendationSystem\") \\\n",
    "    .getOrCreate()"
   ]
  },
  {
   "cell_type": "code",
   "execution_count": 9,
   "id": "363d8f41",
   "metadata": {},
   "outputs": [
    {
     "name": "stdout",
     "output_type": "stream",
     "text": [
      "       userid  product_asin  rating\n",
      "0       35805          2307     5.0\n",
      "1        1983          1209     5.0\n",
      "2       37867          2196     4.0\n",
      "3       72315          2196     5.0\n",
      "4       55627          2986     2.0\n",
      "...       ...           ...     ...\n",
      "81390       0             4     4.0\n",
      "81391       0             4     4.0\n",
      "81392       0            43     4.0\n",
      "81393       0            40     4.0\n",
      "81394       1            89     4.0\n",
      "\n",
      "[81395 rows x 3 columns]\n",
      "   userid\n",
      "0     0.0\n",
      "1     1.0\n",
      "2     NaN\n"
     ]
    }
   ],
   "source": [
    "num_unique_users = len(np.unique(ratings_df[\"userid\"]))\n",
    "num_unique_items = len(np.unique(ratings_df[\"product_asin\"]))\n",
    "\n",
    "# Spark's ALS cannot handle the users and items if they're strings - they have to be integers \n",
    "user_mapper = dict(zip(np.unique(ratings_df[\"userid\"]), list(range(num_unique_users))))\n",
    "item_mapper = dict(zip(np.unique(ratings_df[\"product_asin\"]), list(range(num_unique_items))))\n",
    "user_inverse_mapper = dict(zip(list(range(num_unique_users)), np.unique(ratings_df[\"userid\"])))\n",
    "item_inverse_mapper = dict(zip(list(range(num_unique_items)), np.unique(ratings_df[\"product_asin\"])))\n",
    "\n",
    "\n",
    "ratings_transformed_df = ratings_df.copy()\n",
    "ratings_transformed_df[\"userid\"] = ratings_transformed_df[\"userid\"].map(user_mapper)\n",
    "ratings_transformed_df[\"product_asin\"] = ratings_transformed_df[\"product_asin\"].map(item_mapper)\n",
    "print(ratings_transformed_df)\n",
    "ratings_spark = spark.createDataFrame(ratings_transformed_df)\n",
    "\n",
    "\n",
    "our_users_transformed_df = our_users_df.copy()\n",
    "our_users_transformed_df[\"userid\"] = our_users_df[\"userid\"].map(user_mapper)\n",
    "print(our_users_transformed_df)\n",
    "# !!! Some users have not rated any items. These users will have NaN in mapped id in the above df. These users cannot get recommendations. \n",
    "our_users_transformed_df = our_users_transformed_df.dropna()\n",
    "our_users_spark = spark.createDataFrame(our_users_transformed_df)"
   ]
  },
  {
   "cell_type": "code",
   "execution_count": 10,
   "id": "3138b57c",
   "metadata": {},
   "outputs": [],
   "source": [
    "# HYPERPARAMETERS\n",
    "num_recommendations_per_user = 5\n",
    "num_recommendations_per_user += max_purchases_by_a_user\n",
    "training_split_ratio = 0.8\n",
    "\n",
    "maxIter=10\n",
    "regParam=0.01\n",
    "coldStartStrategy=\"drop\"\n",
    "implicitPrefs=False \n",
    "\n",
    "metricName=\"rmse\"\n",
    "labelCol=\"rating\"\n",
    "predictionCol=\"prediction\""
   ]
  },
  {
   "cell_type": "code",
   "execution_count": 11,
   "id": "183429f0",
   "metadata": {},
   "outputs": [
    {
     "name": "stderr",
     "output_type": "stream",
     "text": [
      "24/12/03 07:19:41 WARN InstanceBuilder: Failed to load implementation from:dev.ludovic.netlib.blas.JNIBLAS\n",
      "24/12/03 07:19:41 WARN InstanceBuilder: Failed to load implementation from:dev.ludovic.netlib.blas.VectorBLAS\n",
      "24/12/03 07:19:41 WARN InstanceBuilder: Failed to load implementation from:dev.ludovic.netlib.lapack.JNILAPACK\n",
      "                                                                                \r"
     ]
    },
    {
     "name": "stdout",
     "output_type": "stream",
     "text": [
      "Root-mean-square error = 3.577522569275012\n"
     ]
    }
   ],
   "source": [
    "(training, test) = ratings_spark.randomSplit([training_split_ratio, 1-training_split_ratio])\n",
    "\n",
    "# Build the recommendation model using ALS on the training data\n",
    "# Note we set cold start strategy to 'drop' to ensure we don't get NaN evaluation metrics\n",
    "als = ALS(maxIter=maxIter, regParam=regParam, userCol=\"userid\", itemCol=\"product_asin\", ratingCol=\"rating\", coldStartStrategy=coldStartStrategy, implicitPrefs=implicitPrefs)\n",
    "model = als.fit(training)\n",
    "\n",
    "# Evaluate the model by computing the RMSE on the test data\n",
    "predictions = model.transform(test)\n",
    "evaluator = RegressionEvaluator(metricName=metricName, labelCol=labelCol, predictionCol=predictionCol)\n",
    "error = evaluator.evaluate(predictions)\n",
    "print(\"Root-mean-square error = \" + str(error))\n",
    "# consistently getting 4.33 rmse which is really bad - the data is EXTREMELY sparse\n",
    "\n",
    "# Generate top num_recommendations_per_user product recommendations for OUR users\n",
    "userSubsetRecs = model.recommendForUserSubset(our_users_spark.select(\"userid\"), num_recommendations_per_user)"
   ]
  },
  {
   "cell_type": "code",
   "execution_count": 12,
   "id": "7f06dbfd",
   "metadata": {},
   "outputs": [
    {
     "name": "stdout",
     "output_type": "stream",
     "text": [
      "   userid                                    recommendations\n",
      "0       1  [(2714, 7.125075340270996), (2488, 6.932002544...\n",
      "1       0  [(2913, 5.738107681274414), (1583, 5.105199337...\n",
      "{'1cbd15f8-4021-70b7-c332-5b8938bd4417': ['B0BJ656TGW', 'B07DMW8WXR', 'B096WCPSHC', 'B07FB68DNX', 'B07GP54Q23', 'B00E1TI0WQ'], '3cad2568-b0c1-7000-07b0-b98f8f2c5010': ['B09JC2GTVD', 'B08TLS33KT', 'B07MBD7XQW', 'B00CYVUAA8', 'B07MDHZTTX', 'B07Y29C8BG'], '8c5d7538-90d1-70a0-efb1-64a13ebc70e0': []}\n"
     ]
    }
   ],
   "source": [
    "user_recommendations_pd = pd.DataFrame(userSubsetRecs.collect(), columns=userSubsetRecs.columns)\n",
    "\n",
    "print(user_recommendations_pd)\n",
    "user_recommendations_pd['recommended_products'] = user_recommendations_pd['recommendations'].apply(\n",
    "    lambda recs: [rec[0] for rec in recs]\n",
    ")\n",
    "\n",
    "user_recommendations_pd = user_recommendations_pd[['userid', 'recommended_products']]\n",
    "\n",
    "user_recommendations_pd[\"userid\"] = user_recommendations_pd[\"userid\"].map(user_inverse_mapper)\n",
    "user_recommendations_pd['recommended_products'] = user_recommendations_pd['recommended_products'].apply(\n",
    "    lambda rec_products: [item_inverse_mapper[product] for product in rec_products]\n",
    ")\n",
    "\n",
    "user_recommendations_pd.head(10)\n",
    "\n",
    "for index, row in user_recommendations_pd.iterrows():\n",
    "    recommendations_dict[row['userid']]=row['recommended_products']\n",
    "\n",
    "print(recommendations_dict)"
   ]
  },
  {
   "cell_type": "code",
   "execution_count": 13,
   "id": "72d9edf1",
   "metadata": {},
   "outputs": [
    {
     "name": "stdout",
     "output_type": "stream",
     "text": [
      "{'1cbd15f8-4021-70b7-c332-5b8938bd4417': ['B0BJ656TGW', 'B07DMW8WXR', 'B096WCPSHC', 'B07FB68DNX', 'B07GP54Q23'], '3cad2568-b0c1-7000-07b0-b98f8f2c5010': ['B09JC2GTVD', 'B08TLS33KT', 'B07MBD7XQW', 'B00CYVUAA8', 'B07MDHZTTX'], '8c5d7538-90d1-70a0-efb1-64a13ebc70e0': []}\n"
     ]
    }
   ],
   "source": [
    "# We don't want to recommend products that have already been bought\n",
    "for user in recommendations_dict.keys():\n",
    "    if user in purchases_dict:\n",
    "        recommendations_dict[user] = [product for product in recommendations_dict[user] if product not in purchases_dict[user]]\n",
    "        # recommendations_dict[key] - purchases_dict[key]  # Subtract corresponding sets !!!\n",
    "\n",
    "num_recommendations_per_user -= max_purchases_by_a_user\n",
    "for user in recommendations_dict.keys():\n",
    "    recommendations_dict[user] = recommendations_dict[user][:num_recommendations_per_user]\n",
    "\n",
    "print(recommendations_dict)"
   ]
  },
  {
   "cell_type": "markdown",
   "id": "59d2657c-df50-4ec3-ab47-d37708d1f54b",
   "metadata": {},
   "source": [
    "UPDATING THE RECOMMENDATIONS ON RDS"
   ]
  },
  {
   "cell_type": "code",
   "execution_count": 14,
   "id": "672845c1-0795-4189-8d3e-96ce8c7fff40",
   "metadata": {},
   "outputs": [
    {
     "name": "stdout",
     "output_type": "stream",
     "text": [
      "Attempting query execution\n"
     ]
    }
   ],
   "source": [
    "# connection, cursor = connect_to_rds()\n",
    "if connection.is_connected() and cursor != None:\n",
    "    print(\"Attempting query execution\")\n",
    "    try:       \n",
    "        delete_existing_recommendations_query = \"DELETE FROM Recommendations;\" #can also use TRUNCATE TABLE recommendations;\n",
    "        cursor.execute(delete_existing_recommendations_query)\n",
    "        connection.commit()\n",
    "        # _ = cursor.fetchall()\n",
    "    \n",
    "    except Error as e:\n",
    "        print(\"Error while executing MySQL queries:\", e)"
   ]
  },
  {
   "cell_type": "code",
   "execution_count": 15,
   "id": "7a317cf0-fc7c-43d8-900b-47d7f634fc45",
   "metadata": {},
   "outputs": [
    {
     "name": "stdout",
     "output_type": "stream",
     "text": [
      "Attempting query execution\n",
      "INSERT INTO Recommendations (userid, product_asin) VALUES ('1cbd15f8-4021-70b7-c332-5b8938bd4417', 'B0BJ656TGW');\n",
      "INSERT INTO Recommendations (userid, product_asin) VALUES ('1cbd15f8-4021-70b7-c332-5b8938bd4417', 'B07DMW8WXR');\n",
      "INSERT INTO Recommendations (userid, product_asin) VALUES ('1cbd15f8-4021-70b7-c332-5b8938bd4417', 'B096WCPSHC');\n",
      "INSERT INTO Recommendations (userid, product_asin) VALUES ('1cbd15f8-4021-70b7-c332-5b8938bd4417', 'B07FB68DNX');\n",
      "INSERT INTO Recommendations (userid, product_asin) VALUES ('1cbd15f8-4021-70b7-c332-5b8938bd4417', 'B07GP54Q23');\n",
      "INSERT INTO Recommendations (userid, product_asin) VALUES ('3cad2568-b0c1-7000-07b0-b98f8f2c5010', 'B09JC2GTVD');\n",
      "INSERT INTO Recommendations (userid, product_asin) VALUES ('3cad2568-b0c1-7000-07b0-b98f8f2c5010', 'B08TLS33KT');\n",
      "INSERT INTO Recommendations (userid, product_asin) VALUES ('3cad2568-b0c1-7000-07b0-b98f8f2c5010', 'B07MBD7XQW');\n",
      "INSERT INTO Recommendations (userid, product_asin) VALUES ('3cad2568-b0c1-7000-07b0-b98f8f2c5010', 'B00CYVUAA8');\n",
      "INSERT INTO Recommendations (userid, product_asin) VALUES ('3cad2568-b0c1-7000-07b0-b98f8f2c5010', 'B07MDHZTTX');\n"
     ]
    }
   ],
   "source": [
    "if connection.is_connected() and cursor != None:\n",
    "    print(\"Attempting query execution\")\n",
    "    try:       \n",
    "        for user in recommendations_dict:\n",
    "            for recommendation in recommendations_dict[user]:\n",
    "                insertion_query = f\"INSERT INTO Recommendations (userid, product_asin) VALUES ('{user}', '{recommendation}');\"\n",
    "                print(insertion_query)\n",
    "                cursor.execute(insertion_query)\n",
    "                connection.commit()\n",
    "        # _ = cursor.fetchall()\n",
    "    except Error as e:\n",
    "        print(\"Error while executing MySQL queries:\", e)"
   ]
  },
  {
   "cell_type": "code",
   "execution_count": 16,
   "id": "a27085fb",
   "metadata": {},
   "outputs": [
    {
     "name": "stdout",
     "output_type": "stream",
     "text": [
      "Connection closed.\n"
     ]
    }
   ],
   "source": [
    "close_connection(connection, cursor)\n",
    "spark.stop()"
   ]
  }
 ],
 "metadata": {
  "kernelspec": {
   "display_name": "Python 3",
   "language": "python",
   "name": "python3"
  },
  "language_info": {
   "codemirror_mode": {
    "name": "ipython",
    "version": 3
   },
   "file_extension": ".py",
   "mimetype": "text/x-python",
   "name": "python",
   "nbconvert_exporter": "python",
   "pygments_lexer": "ipython3",
   "version": "3.12.1"
  }
 },
 "nbformat": 4,
 "nbformat_minor": 5
}
